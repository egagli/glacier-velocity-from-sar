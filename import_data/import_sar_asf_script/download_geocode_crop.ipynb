{
 "cells": [
  {
   "cell_type": "markdown",
   "metadata": {},
   "source": [
    "# Download, Geocode, and Crop SAR images with a given download script"
   ]
  },
  {
   "cell_type": "code",
   "execution_count": null,
   "metadata": {},
   "outputs": [],
   "source": [
    "import geopandas as gpd\n",
    "import os\n",
    "import rasterio as rio\n",
    "import glob\n",
    "from rasterio import plot, mask\n",
    "import matplotlib.pyplot as plt\n",
    "import numpy as np\n",
    "import rioxarray\n",
    "import gdal"
   ]
  },
  {
   "cell_type": "code",
   "execution_count": null,
   "metadata": {},
   "outputs": [],
   "source": [
    "data_dir = 'sar_data'\n",
    "raw_dir = 'sar_images_raw'\n",
    "geo_dir = 'sar_images_geocoded'\n",
    "geo_crop_dir = 'sar_images_geocoded_cropped'"
   ]
  },
  {
   "cell_type": "code",
   "execution_count": null,
   "metadata": {},
   "outputs": [],
   "source": [
    "#clear current contents of folders\n",
    "!rm -rf ./$data_dir/*\n",
    "!rm -rf ./$raw_dir/*\n",
    "!rm -rf ./$geo_dir/*\n",
    "!rm -rf ./$geo_crop_dir/*"
   ]
  },
  {
   "cell_type": "markdown",
   "metadata": {},
   "source": [
    "# Download"
   ]
  },
  {
   "cell_type": "code",
   "execution_count": null,
   "metadata": {},
   "outputs": [],
   "source": [
    "#Place download script in import_sar_asf_script/ directory\n",
    "download_script_name = 'download-all-2021-05-28_12-21-00.py'"
   ]
  },
  {
   "cell_type": "code",
   "execution_count": null,
   "metadata": {},
   "outputs": [],
   "source": [
    "!cp $download_script_name ./$data_dir/"
   ]
  },
  {
   "cell_type": "code",
   "execution_count": null,
   "metadata": {},
   "outputs": [],
   "source": [
    "!cd ./$data_dir && python $download_script_name"
   ]
  },
  {
   "cell_type": "markdown",
   "metadata": {},
   "source": [
    "# Geocode"
   ]
  },
  {
   "cell_type": "code",
   "execution_count": null,
   "metadata": {},
   "outputs": [],
   "source": [
    "for zipfile in os.listdir(data_dir):\n",
    "    !unzip -j $data_dir/$zipfile '*/measurement/*vv*.tiff' -d ./$raw_dir\n",
    "    !rm $data_dir/$zipfile"
   ]
  },
  {
   "cell_type": "code",
   "execution_count": null,
   "metadata": {},
   "outputs": [],
   "source": [
    "for file in os.listdir(raw_dir):\n",
    "    outfile = os.path.splitext(file)[0]+'-utm.tif'\n",
    "    print(outfile)\n",
    "    !gdalwarp -tps -r bilinear -tr 10 10 -srcnodata 0 -dstnodata 0 -t_srs EPSG:32605 ./$raw_dir/$file ./$geo_dir/$outfile\n",
    "    !rm ./$raw_dir/$file"
   ]
  },
  {
   "cell_type": "markdown",
   "metadata": {},
   "source": [
    "# Crop"
   ]
  },
  {
   "cell_type": "code",
   "execution_count": null,
   "metadata": {},
   "outputs": [],
   "source": [
    "muldrow = gpd.read_file('../import_glacier_shapefiles_rgi/muldrow_glacier.geojson')\n",
    "xmin = float(muldrow.bounds.minx)\n",
    "ymin = float(muldrow.bounds.miny)\n",
    "xmax = float(muldrow.bounds.maxx)\n",
    "ymax = float(muldrow.bounds.maxy)"
   ]
  },
  {
   "cell_type": "code",
   "execution_count": null,
   "metadata": {},
   "outputs": [],
   "source": [
    "for file in os.listdir(geo_dir):\n",
    "    print(file)\n",
    "    outfile = os.path.splitext(file)[0]+'-crop.tif'\n",
    "    !gdalwarp -te $xmin $ymin $xmax $ymax $geo_dir/$file $geo_crop_dir/$outfile"
   ]
  }
 ],
 "metadata": {
  "kernelspec": {
   "display_name": "Python 3",
   "language": "python",
   "name": "python3"
  },
  "language_info": {
   "codemirror_mode": {
    "name": "ipython",
    "version": 3
   },
   "file_extension": ".py",
   "mimetype": "text/x-python",
   "name": "python",
   "nbconvert_exporter": "python",
   "pygments_lexer": "ipython3",
   "version": "3.8.6"
  }
 },
 "nbformat": 4,
 "nbformat_minor": 4
}
