{
 "cells": [
  {
   "cell_type": "code",
   "execution_count": null,
   "metadata": {},
   "outputs": [],
   "source": [
    "# geocode using guide from https://asf.alaska.edu/how-to/data-recipes/geocode-sentinel-1-with-gdal/"
   ]
  },
  {
   "cell_type": "code",
   "execution_count": 63,
   "metadata": {},
   "outputs": [],
   "source": [
    "import os\n",
    "import glob"
   ]
  },
  {
   "cell_type": "code",
   "execution_count": 66,
   "metadata": {},
   "outputs": [],
   "source": [
    "data_dir = 'sar_data'\n",
    "raw_dir = 'sar_images_raw'\n",
    "geo_dir = 'sar_images_geocoded'"
   ]
  },
  {
   "cell_type": "code",
   "execution_count": 65,
   "metadata": {},
   "outputs": [
    {
     "name": "stdout",
     "output_type": "stream",
     "text": [
      "Archive:  sar_data/S1A_IW_GRDH_1SDV_20210227T162841_20210227T162906_036778_0452E8_A351.zip\n",
      "  inflating: ./sar_images_raw/s1a-iw-grd-vv-20210227t162841-20210227t162906-036778-0452e8-001.tiff  \n",
      "Archive:  sar_data/S1A_IW_GRDH_1SDV_20210227T162906_20210227T162931_036778_0452E8_779C.zip\n",
      "  inflating: ./sar_images_raw/s1a-iw-grd-vv-20210227t162906-20210227t162931-036778-0452e8-001.tiff  \n",
      "Archive:  sar_data/S1A_IW_GRDH_1SDV_20210311T162906_20210311T162931_036953_045901_F957.zip\n",
      "  inflating: ./sar_images_raw/s1a-iw-grd-vv-20210311t162906-20210311t162931-036953-045901-001.tiff  \n",
      "Archive:  sar_data/S1A_IW_GRDH_1SDV_20210323T162907_20210323T162932_037128_045F17_0361.zip\n",
      "  inflating: ./sar_images_raw/s1a-iw-grd-vv-20210323t162907-20210323t162932-037128-045f17-001.tiff  \n",
      "Archive:  sar_data/S1A_IW_GRDH_1SDV_20210404T162907_20210404T162932_037303_046520_E8CE.zip\n",
      "  inflating: ./sar_images_raw/s1a-iw-grd-vv-20210404t162907-20210404t162932-037303-046520-001.tiff  \n"
     ]
    }
   ],
   "source": [
    "for zipfile in os.listdir(data_dir):\n",
    "    !unzip -j $data_dir/$zipfile '*/measurement/*vv*.tiff' -d ./$raw_dir"
   ]
  },
  {
   "cell_type": "code",
   "execution_count": 77,
   "metadata": {},
   "outputs": [
    {
     "name": "stdout",
     "output_type": "stream",
     "text": [
      "s1a-iw-grd-vv-20210311t162906-20210311t162931-036953-045901-001-utm.tif\n",
      "ERROR 1: PROJ: proj_create_from_database: ellipsoid not found\n",
      "ERROR 1: PROJ: proj_create_from_database: ellipsoid not found\n",
      "Creating output file that is 28029P x 20705L.\n",
      "Processing ./sar_images_raw/s1a-iw-grd-vv-20210311t162906-20210311t162931-036953-045901-001.tiff [1/1] : 0...10...20...30...40...50..^C\n",
      "s1a-iw-grd-vv-20210404t162907-20210404t162932-037303-046520-001-utm.tif\n",
      "ERROR 1: PROJ: proj_create_from_database: ellipsoid not found\n",
      "ERROR 1: PROJ: proj_create_from_database: ellipsoid not found\n",
      "Creating output file that is 28028P x 20704L.\n",
      "Processing ./sar_images_raw/s1a-iw-grd-vv-20210404t162907-20210404t162932-037303-046520-001.tiff [1/1] : 0...10...20...30...40...50...60...70...80...90...100 - done.\n",
      "s1a-iw-grd-vv-20210323t162907-20210323t162932-037128-045f17-001-utm.tif\n",
      "ERROR 1: PROJ: proj_create_from_database: ellipsoid not found\n",
      "ERROR 1: PROJ: proj_create_from_database: ellipsoid not found\n",
      "Creating output file that is 28029P x 20705L.\n",
      "Processing ./sar_images_raw/s1a-iw-grd-vv-20210323t162907-20210323t162932-037128-045f17-001.tiff [1/1] : 0...10...20...30...40...50...60...70...80...90...100 - done.\n",
      "s1a-iw-grd-vv-20210227t162841-20210227t162906-036778-0452e8-001-utm.tif\n",
      "ERROR 1: PROJ: proj_create_from_database: ellipsoid not found\n",
      "ERROR 1: PROJ: proj_create_from_database: ellipsoid not found\n",
      "Creating output file that is 28060P x 20560L.\n",
      "Processing ./sar_images_raw/s1a-iw-grd-vv-20210227t162841-20210227t162906-036778-0452e8-001.tiff [1/1] : 0...10...20...30...40...50...60...70...80...90...100 - done.\n",
      "s1a-iw-grd-vv-20210227t162906-20210227t162931-036778-0452e8-001-utm.tif\n",
      "ERROR 1: PROJ: proj_create_from_database: ellipsoid not found\n",
      "ERROR 1: PROJ: proj_create_from_database: ellipsoid not found\n",
      "Creating output file that is 28030P x 20705L.\n",
      "Processing ./sar_images_raw/s1a-iw-grd-vv-20210227t162906-20210227t162931-036778-0452e8-001.tiff [1/1] : 0...10...20...30...40...50...60...70...80...90...100 - done.\n"
     ]
    }
   ],
   "source": [
    "for file in os.listdir(raw_dir):\n",
    "    outfile = os.path.splitext(file)[0]+'-utm.tif'\n",
    "    print(outfile)\n",
    "    !gdalwarp -tps -r bilinear -tr 10 10 -srcnodata 0 -dstnodata 0 -t_srs EPSG:32605 ./$raw_dir/$file ./$geo_dir/$outfile"
   ]
  },
  {
   "cell_type": "code",
   "execution_count": null,
   "metadata": {},
   "outputs": [],
   "source": [
    "!ls -a\n",
    "!gdal --info"
   ]
  }
 ],
 "metadata": {
  "kernelspec": {
   "display_name": "Python 3",
   "language": "python",
   "name": "python3"
  },
  "language_info": {
   "codemirror_mode": {
    "name": "ipython",
    "version": 3
   },
   "file_extension": ".py",
   "mimetype": "text/x-python",
   "name": "python",
   "nbconvert_exporter": "python",
   "pygments_lexer": "ipython3",
   "version": "3.8.6"
  }
 },
 "nbformat": 4,
 "nbformat_minor": 4
}
