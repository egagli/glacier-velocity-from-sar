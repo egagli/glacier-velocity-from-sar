{
 "cells": [
  {
   "cell_type": "code",
   "execution_count": 1,
   "metadata": {},
   "outputs": [],
   "source": [
    "# crop SAR images to glacier"
   ]
  },
  {
   "cell_type": "code",
   "execution_count": 2,
   "metadata": {},
   "outputs": [
    {
     "name": "stderr",
     "output_type": "stream",
     "text": [
      "/srv/conda/envs/notebook/lib/python3.8/site-packages/rasterio/plot.py:263: SyntaxWarning: \"is\" with a literal. Did you mean \"==\"?\n",
      "  if len(arr.shape) is 2:\n"
     ]
    }
   ],
   "source": [
    "import geopandas as gpd\n",
    "import os\n",
    "import rasterio as rio\n",
    "from rasterio import plot, mask\n",
    "import matplotlib.pyplot as plt\n",
    "import numpy as np\n",
    "import rioxarray\n",
    "import gdal"
   ]
  },
  {
   "cell_type": "code",
   "execution_count": 3,
   "metadata": {},
   "outputs": [],
   "source": [
    "muldrow = gpd.read_file('../import_glacier_shapefiles_rgi/muldrow_glacier.geojson')\n",
    "xmin = float(muldrow.bounds.minx)\n",
    "ymin = float(muldrow.bounds.miny)\n",
    "xmax = float(muldrow.bounds.maxx)\n",
    "ymax = float(muldrow.bounds.maxy)"
   ]
  },
  {
   "cell_type": "code",
   "execution_count": 4,
   "metadata": {},
   "outputs": [],
   "source": [
    "#muldrow.plot()"
   ]
  },
  {
   "cell_type": "code",
   "execution_count": 5,
   "metadata": {},
   "outputs": [],
   "source": [
    "geo_dir = 'sar_images_geocoded'\n",
    "geo_crop_dir = 'sar_images_geocoded_cropped'"
   ]
  },
  {
   "cell_type": "code",
   "execution_count": 6,
   "metadata": {},
   "outputs": [
    {
     "name": "stdout",
     "output_type": "stream",
     "text": [
      "s1a-iw-grd-vv-20210311t162906-20210311t162931-036953-045901-001-utm.tif\n",
      "Creating output file that is 3737P x 3914L.\n",
      "Processing sar_images_geocoded/s1a-iw-grd-vv-20210311t162906-20210311t162931-036953-045901-001-utm.tif [1/1] : 0Using internal nodata values (e.g. 0) for image sar_images_geocoded/s1a-iw-grd-vv-20210311t162906-20210311t162931-036953-045901-001-utm.tif.\n",
      "Copying nodata values from source sar_images_geocoded/s1a-iw-grd-vv-20210311t162906-20210311t162931-036953-045901-001-utm.tif to destination sar_images_geocoded_cropped/s1a-iw-grd-vv-20210311t162906-20210311t162931-036953-045901-001-utm-crop.tif.\n",
      "...10...20...30...40...50...60...70...80...90...100 - done.\n",
      "s1a-iw-grd-vv-20210110t162908-20210110t162933-036078-043a92-001-utm.tif\n",
      "Creating output file that is 3737P x 3914L.\n",
      "Processing sar_images_geocoded/s1a-iw-grd-vv-20210110t162908-20210110t162933-036078-043a92-001-utm.tif [1/1] : 0Using internal nodata values (e.g. 0) for image sar_images_geocoded/s1a-iw-grd-vv-20210110t162908-20210110t162933-036078-043a92-001-utm.tif.\n",
      "Copying nodata values from source sar_images_geocoded/s1a-iw-grd-vv-20210110t162908-20210110t162933-036078-043a92-001-utm.tif to destination sar_images_geocoded_cropped/s1a-iw-grd-vv-20210110t162908-20210110t162933-036078-043a92-001-utm-crop.tif.\n",
      "...10...20...30...40...50...60...70...80...90...100 - done.\n",
      "s1a-iw-grd-vv-20210323t162907-20210323t162932-037128-045f17-001-utm.tif\n",
      "Creating output file that is 3737P x 3914L.\n",
      "Processing sar_images_geocoded/s1a-iw-grd-vv-20210323t162907-20210323t162932-037128-045f17-001-utm.tif [1/1] : 0Using internal nodata values (e.g. 0) for image sar_images_geocoded/s1a-iw-grd-vv-20210323t162907-20210323t162932-037128-045f17-001-utm.tif.\n",
      "Copying nodata values from source sar_images_geocoded/s1a-iw-grd-vv-20210323t162907-20210323t162932-037128-045f17-001-utm.tif to destination sar_images_geocoded_cropped/s1a-iw-grd-vv-20210323t162907-20210323t162932-037128-045f17-001-utm-crop.tif.\n",
      "...10...20...30...40...50...60...70...80...90...100 - done.\n",
      "s1a-iw-grd-vv-20210404t162907-20210404t162932-037303-046520-001-utm.tif\n",
      "Creating output file that is 3737P x 3914L.\n",
      "Processing sar_images_geocoded/s1a-iw-grd-vv-20210404t162907-20210404t162932-037303-046520-001-utm.tif [1/1] : 0Using internal nodata values (e.g. 0) for image sar_images_geocoded/s1a-iw-grd-vv-20210404t162907-20210404t162932-037303-046520-001-utm.tif.\n",
      "Copying nodata values from source sar_images_geocoded/s1a-iw-grd-vv-20210404t162907-20210404t162932-037303-046520-001-utm.tif to destination sar_images_geocoded_cropped/s1a-iw-grd-vv-20210404t162907-20210404t162932-037303-046520-001-utm-crop.tif.\n",
      "...10...20...30...40...50...60...70...80...90...100 - done.\n",
      "s1a-iw-grd-vv-20210428t162901-20210428t162926-037653-04713f-001-utm.tif\n",
      "Creating output file that is 3737P x 3914L.\n",
      "Processing sar_images_geocoded/s1a-iw-grd-vv-20210428t162901-20210428t162926-037653-04713f-001-utm.tif [1/1] : 0Using internal nodata values (e.g. 0) for image sar_images_geocoded/s1a-iw-grd-vv-20210428t162901-20210428t162926-037653-04713f-001-utm.tif.\n",
      "Copying nodata values from source sar_images_geocoded/s1a-iw-grd-vv-20210428t162901-20210428t162926-037653-04713f-001-utm.tif to destination sar_images_geocoded_cropped/s1a-iw-grd-vv-20210428t162901-20210428t162926-037653-04713f-001-utm-crop.tif.\n",
      "...10...20...30...40...50...60...70...80...90...100 - done.\n",
      "s1a-iw-grd-vv-20210203t162907-20210203t162932-036428-0446bc-001-utm.tif\n",
      "Creating output file that is 3737P x 3914L.\n",
      "Processing sar_images_geocoded/s1a-iw-grd-vv-20210203t162907-20210203t162932-036428-0446bc-001-utm.tif [1/1] : 0Using internal nodata values (e.g. 0) for image sar_images_geocoded/s1a-iw-grd-vv-20210203t162907-20210203t162932-036428-0446bc-001-utm.tif.\n",
      "Copying nodata values from source sar_images_geocoded/s1a-iw-grd-vv-20210203t162907-20210203t162932-036428-0446bc-001-utm.tif to destination sar_images_geocoded_cropped/s1a-iw-grd-vv-20210203t162907-20210203t162932-036428-0446bc-001-utm-crop.tif.\n",
      "...10...20...30...40...50...60...70...80...90...100 - done.\n",
      ".ipynb_checkpoints\n",
      "ERROR 4: `sar_images_geocoded/.ipynb_checkpoints' not recognized as a supported file format.\n",
      "s1a-iw-grd-vv-20210227t162906-20210227t162931-036778-0452e8-001-utm.tif\n",
      "Creating output file that is 3737P x 3914L.\n",
      "Processing sar_images_geocoded/s1a-iw-grd-vv-20210227t162906-20210227t162931-036778-0452e8-001-utm.tif [1/1] : 0Using internal nodata values (e.g. 0) for image sar_images_geocoded/s1a-iw-grd-vv-20210227t162906-20210227t162931-036778-0452e8-001-utm.tif.\n",
      "Copying nodata values from source sar_images_geocoded/s1a-iw-grd-vv-20210227t162906-20210227t162931-036778-0452e8-001-utm.tif to destination sar_images_geocoded_cropped/s1a-iw-grd-vv-20210227t162906-20210227t162931-036778-0452e8-001-utm-crop.tif.\n",
      "...10...20...30...40...50...60...70...80...90...100 - done.\n",
      "s1a-iw-grd-vv-20210416t162907-20210416t162932-037478-046b2d-001-utm.tif\n",
      "Creating output file that is 3737P x 3914L.\n",
      "Processing sar_images_geocoded/s1a-iw-grd-vv-20210416t162907-20210416t162932-037478-046b2d-001-utm.tif [1/1] : 0Using internal nodata values (e.g. 0) for image sar_images_geocoded/s1a-iw-grd-vv-20210416t162907-20210416t162932-037478-046b2d-001-utm.tif.\n",
      "Copying nodata values from source sar_images_geocoded/s1a-iw-grd-vv-20210416t162907-20210416t162932-037478-046b2d-001-utm.tif to destination sar_images_geocoded_cropped/s1a-iw-grd-vv-20210416t162907-20210416t162932-037478-046b2d-001-utm-crop.tif.\n",
      "...10...20...30...40...50...60...70...80...90...100 - done.\n",
      "s1a-iw-grd-vv-20210215t162906-20210215t162931-036603-044cda-001-utm.tif\n",
      "Creating output file that is 3737P x 3914L.\n",
      "Processing sar_images_geocoded/s1a-iw-grd-vv-20210215t162906-20210215t162931-036603-044cda-001-utm.tif [1/1] : 0Using internal nodata values (e.g. 0) for image sar_images_geocoded/s1a-iw-grd-vv-20210215t162906-20210215t162931-036603-044cda-001-utm.tif.\n",
      "Copying nodata values from source sar_images_geocoded/s1a-iw-grd-vv-20210215t162906-20210215t162931-036603-044cda-001-utm.tif to destination sar_images_geocoded_cropped/s1a-iw-grd-vv-20210215t162906-20210215t162931-036603-044cda-001-utm-crop.tif.\n",
      "...10...20...30...40...50...60...70...80...90...100 - done.\n",
      "s1a-iw-grd-vv-20210122t162907-20210122t162932-036253-0440ae-001-utm.tif\n",
      "Creating output file that is 3737P x 3914L.\n",
      "Processing sar_images_geocoded/s1a-iw-grd-vv-20210122t162907-20210122t162932-036253-0440ae-001-utm.tif [1/1] : 0Using internal nodata values (e.g. 0) for image sar_images_geocoded/s1a-iw-grd-vv-20210122t162907-20210122t162932-036253-0440ae-001-utm.tif.\n",
      "Copying nodata values from source sar_images_geocoded/s1a-iw-grd-vv-20210122t162907-20210122t162932-036253-0440ae-001-utm.tif to destination sar_images_geocoded_cropped/s1a-iw-grd-vv-20210122t162907-20210122t162932-036253-0440ae-001-utm-crop.tif.\n",
      "...10...20...30...40...50...60...70...80...90...100 - done.\n"
     ]
    }
   ],
   "source": [
    "for file in os.listdir(geo_dir):\n",
    "    print(file)\n",
    "    outfile = os.path.splitext(file)[0]+'-crop.tif'\n",
    "    !gdalwarp -te $xmin $ymin $xmax $ymax $geo_dir/$file $geo_crop_dir/$outfile\n",
    "    #src = rio.open(f'{geo_dir}/{image}')\n",
    "    #rio.plot.show(src)"
   ]
  },
  {
   "cell_type": "code",
   "execution_count": 7,
   "metadata": {},
   "outputs": [],
   "source": [
    "#file = os.listdir(geo_dir)[1]"
   ]
  },
  {
   "cell_type": "code",
   "execution_count": 8,
   "metadata": {},
   "outputs": [],
   "source": [
    "#!gdalinfo $geo_dir/$file"
   ]
  },
  {
   "cell_type": "code",
   "execution_count": 9,
   "metadata": {},
   "outputs": [],
   "source": [
    "#src = rio.open(f'{geo_dir}/{file}')\n",
    "#sar = rioxarray.open_rasterio(f'{geo_dir}/{file}',masked=True,from_disk=True).rio.clip(muldrow.geometry,muldrow.crs, drop=False, invert=True) # what about gdalwarp or other command\n",
    "#sar.plot()\n",
    "#sar = src.read(1,masked=True)\n",
    "#sar = src.\n",
    "#whidbey_ma, whidbey_out_transform = rio.mask.mask(sar, muldrow.geometry, filled=False, crop=True, indexes=1)\n",
    "#whidbey_ma_extent = rio.plot.plotting_extent(whidbey_ma, whidbey_out_transform)\n",
    "#f, ax = plt.subplots()\n",
    "#color = ax.imshow(sar)\n",
    "#color = ax.imshow(np.log(sar,where=(sar!=0)))\n",
    "#f.colorbar(color)\n",
    "#f.set_figheight(8)\n",
    "#f.set_figwidth(12)\n",
    "#ax.set_title('Color Shaded Relief Map')"
   ]
  },
  {
   "cell_type": "code",
   "execution_count": null,
   "metadata": {},
   "outputs": [],
   "source": []
  },
  {
   "cell_type": "code",
   "execution_count": null,
   "metadata": {},
   "outputs": [],
   "source": []
  },
  {
   "cell_type": "code",
   "execution_count": null,
   "metadata": {},
   "outputs": [],
   "source": []
  },
  {
   "cell_type": "code",
   "execution_count": null,
   "metadata": {},
   "outputs": [],
   "source": []
  }
 ],
 "metadata": {
  "kernelspec": {
   "display_name": "Python 3",
   "language": "python",
   "name": "python3"
  },
  "language_info": {
   "codemirror_mode": {
    "name": "ipython",
    "version": 3
   },
   "file_extension": ".py",
   "mimetype": "text/x-python",
   "name": "python",
   "nbconvert_exporter": "python",
   "pygments_lexer": "ipython3",
   "version": "3.8.6"
  }
 },
 "nbformat": 4,
 "nbformat_minor": 4
}
